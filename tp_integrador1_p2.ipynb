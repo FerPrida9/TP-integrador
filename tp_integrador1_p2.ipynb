{
 "cells": [
  {
   "cell_type": "markdown",
   "metadata": {},
   "source": [
    "### __Segunda parte del TP integrador parte 1__\n",
    "#### Utilizando los archivos modificados, mostrar en pantalla los datos solicitados :"
   ]
  },
  {
   "cell_type": "markdown",
   "metadata": {},
   "source": [
    "- ##### 1_ Los diferentes tipos de aeropuertos según la columna 'type'. "
   ]
  },
  {
   "cell_type": "code",
   "execution_count": null,
   "metadata": {},
   "outputs": [],
   "source": [
    "from module import dataset_informer\n",
    "from pathlib import Path\n",
    "\n",
    "airport_file_route = Path('./custom_datasets/ar-airports.csv')\n",
    "\n",
    "type_list = dataset_informer.without_repeated(airport_file_route, 2)\n",
    "\n",
    "print(type_list)"
   ]
  },
  {
   "cell_type": "markdown",
   "metadata": {},
   "source": [
    "- ##### 2_ Los aeropuertos de una elevación, (bajo, medio, alto) cuya especificación se permita modificar fácilmente, evaluando la columna creada 'elevation_name'."
   ]
  },
  {
   "cell_type": "code",
   "execution_count": null,
   "metadata": {},
   "outputs": [],
   "source": [
    "airports_by_elevation = dataset_informer.airports_by_elevation(airport_file_route)\n",
    "\n",
    "print(airports_by_elevation)"
   ]
  },
  {
   "cell_type": "markdown",
   "metadata": {},
   "source": [
    "- ##### 5_ Mostrar los aeropuertos en las capitales de cada provincia."
   ]
  },
  {
   "cell_type": "code",
   "execution_count": null,
   "metadata": {},
   "outputs": [],
   "source": [
    "route1 = './datasets/ar.csv'\n",
    "route2 = './custom_datasets/ar-airports_with_provs.csv'\n",
    "\n",
    "airports_dict = dataset_informer.airports_in_capitals(route1, route2)\n",
    "\n",
    "for key,value in airports_dict.items():\n",
    "    print(f'{key}: {value}')"
   ]
  },
  {
   "cell_type": "markdown",
   "metadata": {},
   "source": [
    "- ##### 6_Mostrar los Lagos de una superficie según la columna 'Sup Tamaño' donde el criterio (chico, medio, grande) se puede indicar fácilmente."
   ]
  },
  {
   "cell_type": "code",
   "execution_count": null,
   "metadata": {},
   "outputs": [],
   "source": [
    "route = './custom_datasets/lagos_arg.csv'\n",
    "lakes_list = dataset_informer.lakes_by_surface(route)\n",
    "print (lakes_list)"
   ]
  }
 ],
 "metadata": {
  "kernelspec": {
   "display_name": "venv",
   "language": "python",
   "name": "python3"
  },
  "language_info": {
   "codemirror_mode": {
    "name": "ipython",
    "version": 3
   },
   "file_extension": ".py",
   "mimetype": "text/x-python",
   "name": "python",
   "nbconvert_exporter": "python",
   "pygments_lexer": "ipython3",
   "version": "3.11.7"
  }
 },
 "nbformat": 4,
 "nbformat_minor": 2
}
